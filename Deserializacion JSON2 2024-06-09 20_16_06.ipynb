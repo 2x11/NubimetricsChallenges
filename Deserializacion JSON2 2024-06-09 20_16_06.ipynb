{
 "cells": [
  {
   "cell_type": "code",
   "execution_count": 0,
   "metadata": {
    "application/vnd.databricks.v1+cell": {
     "cellMetadata": {
      "byteLimit": 2048000,
      "rowLimit": 10000
     },
     "inputWidgets": {},
     "nuid": "5461bdca-01fa-4a15-bb44-657bfe9d8aab",
     "showTitle": false,
     "title": ""
    }
   },
   "outputs": [],
   "source": [
    "from pyspark.sql import SparkSession\n",
    "from pyspark.sql.functions import col  \n",
    "import datetime\n",
    "\n",
    "df = spark.read.json(\"/FileStore/tables/json/Sellers-1.json\")"
   ]
  },
  {
   "cell_type": "code",
   "execution_count": 0,
   "metadata": {
    "application/vnd.databricks.v1+cell": {
     "cellMetadata": {
      "byteLimit": 2048000,
      "rowLimit": 10000
     },
     "inputWidgets": {},
     "nuid": "24c817ed-7916-478c-a917-8b4bd1ee73b8",
     "showTitle": false,
     "title": ""
    }
   },
   "outputs": [
    {
     "output_type": "stream",
     "name": "stdout",
     "output_type": "stream",
     "text": [
      "root\n |-- body: struct (nullable = true)\n |    |-- address: struct (nullable = true)\n |    |    |-- city: string (nullable = true)\n |    |    |-- state: string (nullable = true)\n |    |-- buyer_reputation: struct (nullable = true)\n |    |    |-- tags: array (nullable = true)\n |    |    |    |-- element: string (containsNull = true)\n |    |-- country_id: string (nullable = true)\n |    |-- id: long (nullable = true)\n |    |-- logo: string (nullable = true)\n |    |-- nickname: string (nullable = true)\n |    |-- permalink: string (nullable = true)\n |    |-- points: long (nullable = true)\n |    |-- registration_date: string (nullable = true)\n |    |-- seller_reputation: struct (nullable = true)\n |    |    |-- level_id: string (nullable = true)\n |    |    |-- power_seller_status: string (nullable = true)\n |    |    |-- transactions: struct (nullable = true)\n |    |    |    |-- canceled: long (nullable = true)\n |    |    |    |-- completed: long (nullable = true)\n |    |    |    |-- period: string (nullable = true)\n |    |    |    |-- ratings: struct (nullable = true)\n |    |    |    |    |-- negative: long (nullable = true)\n |    |    |    |    |-- neutral: long (nullable = true)\n |    |    |    |    |-- positive: long (nullable = true)\n |    |    |    |-- total: long (nullable = true)\n |    |-- site_id: string (nullable = true)\n |    |-- status: struct (nullable = true)\n |    |    |-- site_status: string (nullable = true)\n |    |-- tags: array (nullable = true)\n |    |    |-- element: string (containsNull = true)\n |    |-- user_type: string (nullable = true)\n |-- code: long (nullable = true)\n\n"
     ]
    }
   ],
   "source": [
    "#display(df)\n",
    "df.printSchema()\n"
   ]
  },
  {
   "cell_type": "code",
   "execution_count": 0,
   "metadata": {
    "application/vnd.databricks.v1+cell": {
     "cellMetadata": {
      "byteLimit": 2048000,
      "rowLimit": 10000
     },
     "inputWidgets": {},
     "nuid": "471bddd9-3ffa-4120-acd0-01c9332e983b",
     "showTitle": false,
     "title": ""
    }
   },
   "outputs": [],
   "source": [
    "df = df.select(\n",
    "    col(\"body.site_id\").alias(\"site_id\"),\n",
    "    col(\"body.id\").alias(\"id\"),\n",
    "    col(\"body.nickname\").alias(\"nickname\"),\n",
    "    col(\"body.points\").alias(\"points\")\n",
    ")"
   ]
  },
  {
   "cell_type": "code",
   "execution_count": 0,
   "metadata": {
    "application/vnd.databricks.v1+cell": {
     "cellMetadata": {
      "byteLimit": 2048000,
      "rowLimit": 10000
     },
     "inputWidgets": {},
     "nuid": "a3a2f992-7185-426f-83f0-8a29ef193231",
     "showTitle": false,
     "title": ""
    }
   },
   "outputs": [
    {
     "output_type": "stream",
     "name": "stdout",
     "output_type": "stream",
     "text": [
      "+-------+---------+------------------------------+------+\n|site_id|id       |nickname                      |points|\n+-------+---------+------------------------------+------+\n|MPE    |298734964|MARIELATAQUIRE                |2     |\n|MPE    |183049329|MURO8709951                   |-3    |\n|MPE    |94592189 |ILLARYPERU                    |-2    |\n|MPE    |520133997|ISABELLADELPOZO               |1     |\n|MPE    |684964436|PHMO1747353                   |0     |\n|MPE    |685079498|MELISSASUSANAARVALOSANTAYA    |0     |\n|MPE    |646068761|YOMIDELGADOSNCHEZ             |0     |\n|MPE    |685310649|DONATILDONATILDECORREATIMOTECO|0     |\n|MPE    |685419864|VANESSAURNER                  |0     |\n|MPE    |285674870|ERICKLOPEZUSMSYA              |2     |\n|MPE    |685275449|DANIELARUIZRIDRIGUES          |0     |\n|MPE    |48893023 |MARCELASUSAN                  |1     |\n|MPE    |603331827|COVA1031117                   |0     |\n|MPE    |205264135|GOBR7283790                   |1     |\n|MPE    |580279940|LORDVENCEDOR                  |0     |\n|MPE    |300834652|DANIELAHILARIORAMOS           |0     |\n|MPE    |270322958|JHONANTHONYCAYLLAHUAMALASQU   |0     |\n|MPE    |684554092|OSORIOCOLQUIJESSMIGUEL        |0     |\n|MPE    |644166286|GOEL1504737                   |0     |\n|MPE    |685449106|ISABELSNCHEZMEDINA            |0     |\n+-------+---------+------------------------------+------+\n\n"
     ]
    }
   ],
   "source": [
    "df.show(truncate=False)\n"
   ]
  },
  {
   "cell_type": "code",
   "execution_count": 0,
   "metadata": {
    "application/vnd.databricks.v1+cell": {
     "cellMetadata": {
      "byteLimit": 2048000,
      "rowLimit": 10000
     },
     "inputWidgets": {},
     "nuid": "b9c06a6a-86b9-4dd4-bd2b-01d689239b53",
     "showTitle": false,
     "title": ""
    }
   },
   "outputs": [],
   "source": [
    "#puntos\n",
    "positivo_df = df.filter(col(\"points\") > 0)\n",
    "cero_df = df.filter(col(\"points\") == 0)\n",
    "negativo_df = df.filter(col(\"points\") < 0)\n",
    "\n",
    "#fecha\n",
    "current_date = datetime.datetime.now()\n",
    "year = current_date.year\n",
    "month = current_date.strftime('%m')\n",
    "day = current_date.strftime('%d')\n",
    "\n",
    "positivo_path = f\"/mnt/{year}/{month}/{day}/positivo/sellers.csv\"\n",
    "cero_path = f\"/mnt/{year}/{month}/{day}/cero/sellers.csv\"\n",
    "negativo_path = f\"/mnt/{year}/{month}/{day}/negativo/sellers.csv\"\n",
    "\n",
    "positivo_df.write.mode(\"overwrite\").csv(positivo_path, header=True)\n",
    "cero_df.write.mode(\"overwrite\").csv(cero_path, header=True)\n",
    "negativo_df.write.mode(\"overwrite\").csv(negativo_path, header=True)"
   ]
  }
 ],
 "metadata": {
  "application/vnd.databricks.v1+notebook": {
   "dashboards": [],
   "environmentMetadata": null,
   "language": "python",
   "notebookMetadata": {
    "pythonIndentUnit": 4
   },
   "notebookName": "Deserializacion JSON2 2024-06-09 20:16:06",
   "widgets": {}
  }
 },
 "nbformat": 4,
 "nbformat_minor": 0
}
